{
 "cells": [
  {
   "cell_type": "code",
   "execution_count": 1,
   "id": "a70ac8fa",
   "metadata": {},
   "outputs": [],
   "source": [
    "import joblib"
   ]
  },
  {
   "cell_type": "code",
   "execution_count": 5,
   "id": "51ba975e",
   "metadata": {},
   "outputs": [],
   "source": [
    "loaded_model = joblib.load('model.pkl')"
   ]
  },
  {
   "cell_type": "code",
   "execution_count": 18,
   "id": "4e6a7307",
   "metadata": {},
   "outputs": [],
   "source": [
    "from sklearn.pipeline import Pipeline\n",
    "from sklearn.preprocessing import StandardScaler\n",
    "from xgboost import XGBClassifier\n",
    "from sklearn.linear_model import LogisticRegression\n",
    "import pandas as pd\n",
    "from sklearn.model_selection import train_test_split"
   ]
  },
  {
   "cell_type": "code",
   "execution_count": 11,
   "id": "45e5993a",
   "metadata": {},
   "outputs": [],
   "source": [
    "# Masukkan ke pipeline (tanpa tanda kurung)\n",
    "pipeline = Pipeline([\n",
    "    (\"scaler\", StandardScaler()),\n",
    "    (\"model\", loaded_model)   # ✅ bukan loaded_model()\n",
    "])"
   ]
  },
  {
   "cell_type": "code",
   "execution_count": 14,
   "id": "187e87a5",
   "metadata": {},
   "outputs": [],
   "source": [
    "df_out=pd.read_clipboard(\"\")"
   ]
  },
  {
   "cell_type": "code",
   "execution_count": 19,
   "id": "78f25416",
   "metadata": {},
   "outputs": [],
   "source": [
    "y=df_out['Diagnosis Akhir']\n",
    "x=df_out.drop(columns=['Diagnosis Akhir'])\n",
    "x_train, x_test, y_train, y_test = train_test_split(x,y,test_size=0.2,random_state=42,shuffle=True)"
   ]
  },
  {
   "cell_type": "code",
   "execution_count": 20,
   "id": "eb01dd08",
   "metadata": {},
   "outputs": [],
   "source": [
    "# Fit ulang atau langsung inference\n",
    "pipeline.fit(x_train, y_train)\n",
    "y_pred = pipeline.predict(x_test)"
   ]
  },
  {
   "cell_type": "code",
   "execution_count": 23,
   "id": "65d0075b",
   "metadata": {},
   "outputs": [],
   "source": [
    "def performa_model (y_test,y_pred):\n",
    "    accuracy=accuracy_score(y_test,y_pred)\n",
    "    recall=recall_score(y_test,y_pred)\n",
    "    precision=precision_score(y_test,y_pred)\n",
    "    cm=confusion_matrix(y_test,y_pred)\n",
    "    auc=roc_auc_score(y_test,y_pred)\n",
    "    sensitivity=recall_score(y_test,y_pred)\n",
    "    logloss=log_loss(y_test,y_pred)\n",
    "    print(f\"accuracy: {accuracy}\")\n",
    "    print(f\"recall: {recall}\")\n",
    "    print(f\"precision: {precision}\")\n",
    "    print(f\"auc: {auc}\")\n",
    "    print(f\"sensitivity: {sensitivity}\")\n",
    "    print(f\"log loss: {logloss}\")"
   ]
  },
  {
   "cell_type": "code",
   "execution_count": 25,
   "id": "ac0431ae",
   "metadata": {},
   "outputs": [],
   "source": [
    "from sklearn.metrics import accuracy_score, precision_score, confusion_matrix, precision_score, recall_score,roc_auc_score, log_loss"
   ]
  },
  {
   "cell_type": "code",
   "execution_count": 26,
   "id": "79d4b7df",
   "metadata": {},
   "outputs": [
    {
     "name": "stdout",
     "output_type": "stream",
     "text": [
      "accuracy: 0.5\n",
      "recall: 0.0\n",
      "precision: 0.0\n",
      "auc: 0.5\n",
      "sensitivity: 0.0\n",
      "log loss: 18.021826694558577\n"
     ]
    },
    {
     "name": "stderr",
     "output_type": "stream",
     "text": [
      "c:\\Users\\emanu\\AppData\\Local\\Programs\\Python\\Python311\\Lib\\site-packages\\sklearn\\metrics\\_classification.py:1509: UndefinedMetricWarning: Precision is ill-defined and being set to 0.0 due to no predicted samples. Use `zero_division` parameter to control this behavior.\n",
      "  _warn_prf(average, modifier, f\"{metric.capitalize()} is\", len(result))\n"
     ]
    }
   ],
   "source": [
    "performa_model(y_test,y_pred)"
   ]
  }
 ],
 "metadata": {
  "kernelspec": {
   "display_name": "Python 3",
   "language": "python",
   "name": "python3"
  },
  "language_info": {
   "codemirror_mode": {
    "name": "ipython",
    "version": 3
   },
   "file_extension": ".py",
   "mimetype": "text/x-python",
   "name": "python",
   "nbconvert_exporter": "python",
   "pygments_lexer": "ipython3",
   "version": "3.11.9"
  }
 },
 "nbformat": 4,
 "nbformat_minor": 5
}
