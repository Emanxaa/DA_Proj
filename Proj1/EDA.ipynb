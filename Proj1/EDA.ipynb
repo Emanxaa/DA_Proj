{
 "cells": [
  {
   "cell_type": "code",
   "execution_count": 2,
   "id": "210b4ff1",
   "metadata": {},
   "outputs": [],
   "source": [
    "import pandas as pd"
   ]
  },
  {
   "cell_type": "code",
   "execution_count": 7,
   "id": "99b4eb13",
   "metadata": {},
   "outputs": [],
   "source": [
    "df=pd.read_excel(\"D:\\DATAS\\TBC\\TBC.xlsx\")"
   ]
  },
  {
   "cell_type": "code",
   "execution_count": 17,
   "id": "4e1560ec",
   "metadata": {},
   "outputs": [
    {
     "data": {
      "application/vnd.microsoft.datawrangler.viewer.v0+json": {
       "columns": [
        {
         "name": "index",
         "rawType": "int64",
         "type": "integer"
        },
        {
         "name": "Diagnosis Akhir",
         "rawType": "int64",
         "type": "integer"
        },
        {
         "name": "Ketergantungan",
         "rawType": "int64",
         "type": "integer"
        },
        {
         "name": "Keluhan Batuk",
         "rawType": "int64",
         "type": "integer"
        },
        {
         "name": "Keluhan Sesak Nafas",
         "rawType": "int64",
         "type": "integer"
        },
        {
         "name": "Keluhan Demam",
         "rawType": "int64",
         "type": "integer"
        },
        {
         "name": "Diagnosa Awal",
         "rawType": "int64",
         "type": "integer"
        },
        {
         "name": "Riwayat Penyakit Sebelumnya",
         "rawType": "int64",
         "type": "integer"
        },
        {
         "name": "Jenis Kelamin",
         "rawType": "int64",
         "type": "integer"
        },
        {
         "name": "Usia",
         "rawType": "int64",
         "type": "integer"
        }
       ],
       "ref": "863e31fd-43fd-4021-8758-b9eba30f4134",
       "rows": [
        [
         "0",
         "0",
         "1",
         "0",
         "0",
         "0",
         "0",
         "0",
         "1",
         "1"
        ],
        [
         "1",
         "1",
         "0",
         "1",
         "1",
         "0",
         "1",
         "1",
         "0",
         "1"
        ],
        [
         "2",
         "0",
         "2",
         "0",
         "0",
         "0",
         "0",
         "0",
         "1",
         "1"
        ],
        [
         "3",
         "1",
         "2",
         "1",
         "1",
         "1",
         "1",
         "2",
         "1",
         "2"
        ],
        [
         "4",
         "0",
         "0",
         "0",
         "0",
         "1",
         "0",
         "1",
         "1",
         "1"
        ]
       ],
       "shape": {
        "columns": 9,
        "rows": 5
       }
      },
      "text/html": [
       "<div>\n",
       "<style scoped>\n",
       "    .dataframe tbody tr th:only-of-type {\n",
       "        vertical-align: middle;\n",
       "    }\n",
       "\n",
       "    .dataframe tbody tr th {\n",
       "        vertical-align: top;\n",
       "    }\n",
       "\n",
       "    .dataframe thead th {\n",
       "        text-align: right;\n",
       "    }\n",
       "</style>\n",
       "<table border=\"1\" class=\"dataframe\">\n",
       "  <thead>\n",
       "    <tr style=\"text-align: right;\">\n",
       "      <th></th>\n",
       "      <th>Diagnosis Akhir</th>\n",
       "      <th>Ketergantungan</th>\n",
       "      <th>Keluhan Batuk</th>\n",
       "      <th>Keluhan Sesak Nafas</th>\n",
       "      <th>Keluhan Demam</th>\n",
       "      <th>Diagnosa Awal</th>\n",
       "      <th>Riwayat Penyakit Sebelumnya</th>\n",
       "      <th>Jenis Kelamin</th>\n",
       "      <th>Usia</th>\n",
       "    </tr>\n",
       "  </thead>\n",
       "  <tbody>\n",
       "    <tr>\n",
       "      <th>0</th>\n",
       "      <td>0</td>\n",
       "      <td>1</td>\n",
       "      <td>0</td>\n",
       "      <td>0</td>\n",
       "      <td>0</td>\n",
       "      <td>0</td>\n",
       "      <td>0</td>\n",
       "      <td>1</td>\n",
       "      <td>1</td>\n",
       "    </tr>\n",
       "    <tr>\n",
       "      <th>1</th>\n",
       "      <td>1</td>\n",
       "      <td>0</td>\n",
       "      <td>1</td>\n",
       "      <td>1</td>\n",
       "      <td>0</td>\n",
       "      <td>1</td>\n",
       "      <td>1</td>\n",
       "      <td>0</td>\n",
       "      <td>1</td>\n",
       "    </tr>\n",
       "    <tr>\n",
       "      <th>2</th>\n",
       "      <td>0</td>\n",
       "      <td>2</td>\n",
       "      <td>0</td>\n",
       "      <td>0</td>\n",
       "      <td>0</td>\n",
       "      <td>0</td>\n",
       "      <td>0</td>\n",
       "      <td>1</td>\n",
       "      <td>1</td>\n",
       "    </tr>\n",
       "    <tr>\n",
       "      <th>3</th>\n",
       "      <td>1</td>\n",
       "      <td>2</td>\n",
       "      <td>1</td>\n",
       "      <td>1</td>\n",
       "      <td>1</td>\n",
       "      <td>1</td>\n",
       "      <td>2</td>\n",
       "      <td>1</td>\n",
       "      <td>2</td>\n",
       "    </tr>\n",
       "    <tr>\n",
       "      <th>4</th>\n",
       "      <td>0</td>\n",
       "      <td>0</td>\n",
       "      <td>0</td>\n",
       "      <td>0</td>\n",
       "      <td>1</td>\n",
       "      <td>0</td>\n",
       "      <td>1</td>\n",
       "      <td>1</td>\n",
       "      <td>1</td>\n",
       "    </tr>\n",
       "  </tbody>\n",
       "</table>\n",
       "</div>"
      ],
      "text/plain": [
       "   Diagnosis Akhir  Ketergantungan  Keluhan Batuk  Keluhan Sesak Nafas  \\\n",
       "0                0               1              0                    0   \n",
       "1                1               0              1                    1   \n",
       "2                0               2              0                    0   \n",
       "3                1               2              1                    1   \n",
       "4                0               0              0                    0   \n",
       "\n",
       "   Keluhan Demam  Diagnosa Awal  Riwayat Penyakit Sebelumnya  Jenis Kelamin  \\\n",
       "0              0              0                            0              1   \n",
       "1              0              1                            1              0   \n",
       "2              0              0                            0              1   \n",
       "3              1              1                            2              1   \n",
       "4              1              0                            1              1   \n",
       "\n",
       "   Usia  \n",
       "0     1  \n",
       "1     1  \n",
       "2     1  \n",
       "3     2  \n",
       "4     1  "
      ]
     },
     "execution_count": 17,
     "metadata": {},
     "output_type": "execute_result"
    }
   ],
   "source": [
    "df.head()"
   ]
  },
  {
   "cell_type": "code",
   "execution_count": 19,
   "id": "f466d857",
   "metadata": {},
   "outputs": [
    {
     "name": "stdout",
     "output_type": "stream",
     "text": [
      "<class 'pandas.core.frame.DataFrame'>\n",
      "RangeIndex: 223 entries, 0 to 222\n",
      "Data columns (total 9 columns):\n",
      " #   Column                       Non-Null Count  Dtype\n",
      "---  ------                       --------------  -----\n",
      " 0   Diagnosis Akhir              223 non-null    int64\n",
      " 1   Ketergantungan               223 non-null    int64\n",
      " 2   Keluhan Batuk                223 non-null    int64\n",
      " 3   Keluhan Sesak Nafas          223 non-null    int64\n",
      " 4   Keluhan Demam                223 non-null    int64\n",
      " 5   Diagnosa Awal                223 non-null    int64\n",
      " 6   Riwayat Penyakit Sebelumnya  223 non-null    int64\n",
      " 7   Jenis Kelamin                223 non-null    int64\n",
      " 8   Usia                         223 non-null    int64\n",
      "dtypes: int64(9)\n",
      "memory usage: 15.8 KB\n"
     ]
    }
   ],
   "source": [
    "df.shape           # ukuran data\n",
    "df.info()          # tipe data, jumlah non-null"
   ]
  },
  {
   "cell_type": "code",
   "execution_count": 20,
   "id": "8e04558f",
   "metadata": {},
   "outputs": [
    {
     "data": {
      "application/vnd.microsoft.datawrangler.viewer.v0+json": {
       "columns": [
        {
         "name": "index",
         "rawType": "object",
         "type": "string"
        },
        {
         "name": "0",
         "rawType": "int64",
         "type": "integer"
        }
       ],
       "ref": "d4d181b7-7470-4854-ba5a-070f360d75c5",
       "rows": [
        [
         "Diagnosis Akhir",
         "2"
        ],
        [
         "Ketergantungan",
         "3"
        ],
        [
         "Keluhan Batuk",
         "2"
        ],
        [
         "Keluhan Sesak Nafas",
         "2"
        ],
        [
         "Keluhan Demam",
         "2"
        ],
        [
         "Diagnosa Awal",
         "3"
        ],
        [
         "Riwayat Penyakit Sebelumnya",
         "3"
        ],
        [
         "Jenis Kelamin",
         "2"
        ],
        [
         "Usia",
         "3"
        ]
       ],
       "shape": {
        "columns": 1,
        "rows": 9
       }
      },
      "text/plain": [
       "Diagnosis Akhir                2\n",
       "Ketergantungan                 3\n",
       "Keluhan Batuk                  2\n",
       "Keluhan Sesak Nafas            2\n",
       "Keluhan Demam                  2\n",
       "Diagnosa Awal                  3\n",
       "Riwayat Penyakit Sebelumnya    3\n",
       "Jenis Kelamin                  2\n",
       "Usia                           3\n",
       "dtype: int64"
      ]
     },
     "execution_count": 20,
     "metadata": {},
     "output_type": "execute_result"
    }
   ],
   "source": [
    "df.describe()      # ringkasan statistik numerik\n",
    "df.nunique()       # jumlah unique value per kolom"
   ]
  },
  {
   "cell_type": "code",
   "execution_count": 21,
   "id": "26e76459",
   "metadata": {},
   "outputs": [
    {
     "data": {
      "text/plain": [
       "56"
      ]
     },
     "execution_count": 21,
     "metadata": {},
     "output_type": "execute_result"
    }
   ],
   "source": [
    "df.isnull().sum()          # missing values\n",
    "(df == \"\").sum()           # cek string kosong\n",
    "df.duplicated().sum()      # cek duplikasi\n"
   ]
  },
  {
   "cell_type": "code",
   "execution_count": 23,
   "id": "98ca0dde",
   "metadata": {},
   "outputs": [
    {
     "data": {
      "application/vnd.microsoft.datawrangler.viewer.v0+json": {
       "columns": [
        {
         "name": "Diagnosa Awal",
         "rawType": "int64",
         "type": "integer"
        },
        {
         "name": "count",
         "rawType": "int64",
         "type": "integer"
        }
       ],
       "ref": "15179733-1b2d-4865-b4a8-e73bb995013e",
       "rows": [
        [
         "0",
         "105"
        ],
        [
         "1",
         "71"
        ],
        [
         "2",
         "47"
        ]
       ],
       "shape": {
        "columns": 1,
        "rows": 3
       }
      },
      "text/plain": [
       "Diagnosa Awal\n",
       "0    105\n",
       "1     71\n",
       "2     47\n",
       "Name: count, dtype: int64"
      ]
     },
     "execution_count": 23,
     "metadata": {},
     "output_type": "execute_result"
    }
   ],
   "source": [
    "df['Diagnosa Awal'].value_counts()"
   ]
  },
  {
   "cell_type": "code",
   "execution_count": 24,
   "id": "c6401c23",
   "metadata": {},
   "outputs": [
    {
     "data": {
      "text/plain": [
       "<Axes: >"
      ]
     },
     "execution_count": 24,
     "metadata": {},
     "output_type": "execute_result"
    },
    {
     "data": {
      "image/png": "[encoded data removed]",
      "text/plain": [
       "<Figure size 640x480 with 1 Axes>"
      ]
     },
     "metadata": {},
     "output_type": "display_data"
    }
   ],
   "source": [
    "df['Diagnosa Awal'].hist()"
   ]
  },
  {
   "cell_type": "code",
   "execution_count": 25,
   "id": "416079be",
   "metadata": {},
   "outputs": [
    {
     "data": {
      "text/plain": [
       "<Axes: >"
      ]
     },
     "execution_count": 25,
     "metadata": {},
     "output_type": "execute_result"
    },
    {
     "data": {
      "image/png": "[encoded data removed]",
      "text/plain": [
       "<Figure size 640x480 with 1 Axes>"
      ]
     },
     "metadata": {},
     "output_type": "display_data"
    }
   ],
   "source": [
    "df['Diagnosa Awal'].plot.box()"
   ]
  },
  {
   "cell_type": "code",
   "execution_count": 26,
   "id": "a4ba382b",
   "metadata": {},
   "outputs": [
    {
     "data": {
      "application/vnd.microsoft.datawrangler.viewer.v0+json": {
       "columns": [
        {
         "name": "index",
         "rawType": "object",
         "type": "string"
        },
        {
         "name": "Diagnosis Akhir",
         "rawType": "float64",
         "type": "float"
        },
        {
         "name": "Ketergantungan",
         "rawType": "float64",
         "type": "float"
        },
        {
         "name": "Keluhan Batuk",
         "rawType": "float64",
         "type": "float"
        },
        {
         "name": "Keluhan Sesak Nafas",
         "rawType": "float64",
         "type": "float"
        },
        {
         "name": "Keluhan Demam",
         "rawType": "float64",
         "type": "float"
        },
        {
         "name": "Diagnosa Awal",
         "rawType": "float64",
         "type": "float"
        },
        {
         "name": "Riwayat Penyakit Sebelumnya",
         "rawType": "float64",
         "type": "float"
        },
        {
         "name": "Jenis Kelamin",
         "rawType": "float64",
         "type": "float"
        },
        {
         "name": "Usia",
         "rawType": "float64",
         "type": "float"
        }
       ],
       "ref": "5fdff52c-c50c-485b-868c-9f20dc01dd2c",
       "rows": [
        [
         "Diagnosis Akhir",
         "1.0",
         "-0.00509622391375453",
         "0.5622092209719929",
         "0.6077801818803088",
         "0.6129665223186646",
         "0.40407870229876897",
         "0.34416359145223435",
         "-0.04752749382095611",
         "-0.07058876959309361"
        ],
        [
         "Ketergantungan",
         "-0.00509622391375453",
         "1.0",
         "0.08817423485354946",
         "0.05260943309198134",
         "0.0017406663956699678",
         "-0.0032500282220472953",
         "-0.04609297608312859",
         "0.3162313303363548",
         "0.0896080381363473"
        ],
        [
         "Keluhan Batuk",
         "0.5622092209719929",
         "0.08817423485354946",
         "1.0",
         "0.3359318165733263",
         "0.358335620846129",
         "0.1813327279490811",
         "0.20564000746769212",
         "-0.029809861424427948",
         "-0.04145527391127042"
        ],
        [
         "Keluhan Sesak Nafas",
         "0.6077801818803088",
         "0.05260943309198134",
         "0.3359318165733263",
         "1.0",
         "0.4647570766886807",
         "0.26548533653372874",
         "0.27351693286716666",
         "-0.07830982410417263",
         "-0.022571689970481333"
        ],
        [
         "Keluhan Demam",
         "0.6129665223186646",
         "0.0017406663956699678",
         "0.358335620846129",
         "0.4647570766886807",
         "1.0",
         "0.162098242707171",
         "0.25531803572116596",
         "-0.0768342935257199",
         "-0.09537593226447223"
        ],
        [
         "Diagnosa Awal",
         "0.40407870229876897",
         "-0.0032500282220472953",
         "0.1813327279490811",
         "0.26548533653372874",
         "0.162098242707171",
         "1.0",
         "0.15867365149772142",
         "0.03631791463456098",
         "0.012190424763196114"
        ],
        [
         "Riwayat Penyakit Sebelumnya",
         "0.34416359145223435",
         "-0.04609297608312859",
         "0.20564000746769212",
         "0.27351693286716666",
         "0.25531803572116596",
         "0.15867365149772142",
         "1.0",
         "-0.09329870010538126",
         "-0.0519914997404006"
        ],
        [
         "Jenis Kelamin",
         "-0.04752749382095611",
         "0.3162313303363548",
         "-0.029809861424427948",
         "-0.07830982410417263",
         "-0.0768342935257199",
         "0.03631791463456098",
         "-0.09329870010538126",
         "1.0",
         "0.01489054378996789"
        ],
        [
         "Usia",
         "-0.07058876959309361",
         "0.0896080381363473",
         "-0.04145527391127042",
         "-0.022571689970481333",
         "-0.09537593226447223",
         "0.012190424763196114",
         "-0.0519914997404006",
         "0.01489054378996789",
         "1.0"
        ]
       ],
       "shape": {
        "columns": 9,
        "rows": 9
       }
      },
      "text/html": [
       "<div>\n",
       "<style scoped>\n",
       "    .dataframe tbody tr th:only-of-type {\n",
       "        vertical-align: middle;\n",
       "    }\n",
       "\n",
       "    .dataframe tbody tr th {\n",
       "        vertical-align: top;\n",
       "    }\n",
       "\n",
       "    .dataframe thead th {\n",
       "        text-align: right;\n",
       "    }\n",
       "</style>\n",
       "<table border=\"1\" class=\"dataframe\">\n",
       "  <thead>\n",
       "    <tr style=\"text-align: right;\">\n",
       "      <th></th>\n",
       "      <th>Diagnosis Akhir</th>\n",
       "      <th>Ketergantungan</th>\n",
       "      <th>Keluhan Batuk</th>\n",
       "      <th>Keluhan Sesak Nafas</th>\n",
       "      <th>Keluhan Demam</th>\n",
       "      <th>Diagnosa Awal</th>\n",
       "      <th>Riwayat Penyakit Sebelumnya</th>\n",
       "      <th>Jenis Kelamin</th>\n",
       "      <th>Usia</th>\n",
       "    </tr>\n",
       "  </thead>\n",
       "  <tbody>\n",
       "    <tr>\n",
       "      <th>Diagnosis Akhir</th>\n",
       "      <td>1.000000</td>\n",
       "      <td>-0.005096</td>\n",
       "      <td>0.562209</td>\n",
       "      <td>0.607780</td>\n",
       "      <td>0.612967</td>\n",
       "      <td>0.404079</td>\n",
       "      <td>0.344164</td>\n",
       "      <td>-0.047527</td>\n",
       "      <td>-0.070589</td>\n",
       "    </tr>\n",
       "    <tr>\n",
       "      <th>Ketergantungan</th>\n",
       "      <td>-0.005096</td>\n",
       "      <td>1.000000</td>\n",
       "      <td>0.088174</td>\n",
       "      <td>0.052609</td>\n",
       "      <td>0.001741</td>\n",
       "      <td>-0.003250</td>\n",
       "      <td>-0.046093</td>\n",
       "      <td>0.316231</td>\n",
       "      <td>0.089608</td>\n",
       "    </tr>\n",
       "    <tr>\n",
       "      <th>Keluhan Batuk</th>\n",
       "      <td>0.562209</td>\n",
       "      <td>0.088174</td>\n",
       "      <td>1.000000</td>\n",
       "      <td>0.335932</td>\n",
       "      <td>0.358336</td>\n",
       "      <td>0.181333</td>\n",
       "      <td>0.205640</td>\n",
       "      <td>-0.029810</td>\n",
       "      <td>-0.041455</td>\n",
       "    </tr>\n",
       "    <tr>\n",
       "      <th>Keluhan Sesak Nafas</th>\n",
       "      <td>0.607780</td>\n",
       "      <td>0.052609</td>\n",
       "      <td>0.335932</td>\n",
       "      <td>1.000000</td>\n",
       "      <td>0.464757</td>\n",
       "      <td>0.265485</td>\n",
       "      <td>0.273517</td>\n",
       "      <td>-0.078310</td>\n",
       "      <td>-0.022572</td>\n",
       "    </tr>\n",
       "    <tr>\n",
       "      <th>Keluhan Demam</th>\n",
       "      <td>0.612967</td>\n",
       "      <td>0.001741</td>\n",
       "      <td>0.358336</td>\n",
       "      <td>0.464757</td>\n",
       "      <td>1.000000</td>\n",
       "      <td>0.162098</td>\n",
       "      <td>0.255318</td>\n",
       "      <td>-0.076834</td>\n",
       "      <td>-0.095376</td>\n",
       "    </tr>\n",
       "    <tr>\n",
       "      <th>Diagnosa Awal</th>\n",
       "      <td>0.404079</td>\n",
       "      <td>-0.003250</td>\n",
       "      <td>0.181333</td>\n",
       "      <td>0.265485</td>\n",
       "      <td>0.162098</td>\n",
       "      <td>1.000000</td>\n",
       "      <td>0.158674</td>\n",
       "      <td>0.036318</td>\n",
       "      <td>0.012190</td>\n",
       "    </tr>\n",
       "    <tr>\n",
       "      <th>Riwayat Penyakit Sebelumnya</th>\n",
       "      <td>0.344164</td>\n",
       "      <td>-0.046093</td>\n",
       "      <td>0.205640</td>\n",
       "      <td>0.273517</td>\n",
       "      <td>0.255318</td>\n",
       "      <td>0.158674</td>\n",
       "      <td>1.000000</td>\n",
       "      <td>-0.093299</td>\n",
       "      <td>-0.051991</td>\n",
       "    </tr>\n",
       "    <tr>\n",
       "      <th>Jenis Kelamin</th>\n",
       "      <td>-0.047527</td>\n",
       "      <td>0.316231</td>\n",
       "      <td>-0.029810</td>\n",
       "      <td>-0.078310</td>\n",
       "      <td>-0.076834</td>\n",
       "      <td>0.036318</td>\n",
       "      <td>-0.093299</td>\n",
       "      <td>1.000000</td>\n",
       "      <td>0.014891</td>\n",
       "    </tr>\n",
       "    <tr>\n",
       "      <th>Usia</th>\n",
       "      <td>-0.070589</td>\n",
       "      <td>0.089608</td>\n",
       "      <td>-0.041455</td>\n",
       "      <td>-0.022572</td>\n",
       "      <td>-0.095376</td>\n",
       "      <td>0.012190</td>\n",
       "      <td>-0.051991</td>\n",
       "      <td>0.014891</td>\n",
       "      <td>1.000000</td>\n",
       "    </tr>\n",
       "  </tbody>\n",
       "</table>\n",
       "</div>"
      ],
      "text/plain": [
       "                             Diagnosis Akhir  Ketergantungan  Keluhan Batuk  \\\n",
       "Diagnosis Akhir                     1.000000       -0.005096       0.562209   \n",
       "Ketergantungan                     -0.005096        1.000000       0.088174   \n",
       "Keluhan Batuk                       0.562209        0.088174       1.000000   \n",
       "Keluhan Sesak Nafas                 0.607780        0.052609       0.335932   \n",
       "Keluhan Demam                       0.612967        0.001741       0.358336   \n",
       "Diagnosa Awal                       0.404079       -0.003250       0.181333   \n",
       "Riwayat Penyakit Sebelumnya         0.344164       -0.046093       0.205640   \n",
       "Jenis Kelamin                      -0.047527        0.316231      -0.029810   \n",
       "Usia                               -0.070589        0.089608      -0.041455   \n",
       "\n",
       "                             Keluhan Sesak Nafas  Keluhan Demam  \\\n",
       "Diagnosis Akhir                         0.607780       0.612967   \n",
       "Ketergantungan                          0.052609       0.001741   \n",
       "Keluhan Batuk                           0.335932       0.358336   \n",
       "Keluhan Sesak Nafas                     1.000000       0.464757   \n",
       "Keluhan Demam                           0.464757       1.000000   \n",
       "Diagnosa Awal                           0.265485       0.162098   \n",
       "Riwayat Penyakit Sebelumnya             0.273517       0.255318   \n",
       "Jenis Kelamin                          -0.078310      -0.076834   \n",
       "Usia                                   -0.022572      -0.095376   \n",
       "\n",
       "                             Diagnosa Awal  Riwayat Penyakit Sebelumnya  \\\n",
       "Diagnosis Akhir                   0.404079                     0.344164   \n",
       "Ketergantungan                   -0.003250                    -0.046093   \n",
       "Keluhan Batuk                     0.181333                     0.205640   \n",
       "Keluhan Sesak Nafas               0.265485                     0.273517   \n",
       "Keluhan Demam                     0.162098                     0.255318   \n",
       "Diagnosa Awal                     1.000000                     0.158674   \n",
       "Riwayat Penyakit Sebelumnya       0.158674                     1.000000   \n",
       "Jenis Kelamin                     0.036318                    -0.093299   \n",
       "Usia                              0.012190                    -0.051991   \n",
       "\n",
       "                             Jenis Kelamin      Usia  \n",
       "Diagnosis Akhir                  -0.047527 -0.070589  \n",
       "Ketergantungan                    0.316231  0.089608  \n",
       "Keluhan Batuk                    -0.029810 -0.041455  \n",
       "Keluhan Sesak Nafas              -0.078310 -0.022572  \n",
       "Keluhan Demam                    -0.076834 -0.095376  \n",
       "Diagnosa Awal                     0.036318  0.012190  \n",
       "Riwayat Penyakit Sebelumnya      -0.093299 -0.051991  \n",
       "Jenis Kelamin                     1.000000  0.014891  \n",
       "Usia                              0.014891  1.000000  "
      ]
     },
     "execution_count": 26,
     "metadata": {},
     "output_type": "execute_result"
    }
   ],
   "source": [
    "df.corr(numeric_only=True)   # korelasi antar numerik"
   ]
  },
  {
   "cell_type": "code",
   "execution_count": 27,
   "id": "0d49388c",
   "metadata": {},
   "outputs": [
    {
     "data": {
      "application/vnd.microsoft.datawrangler.viewer.v0+json": {
       "columns": [
        {
         "name": "Jenis Kelamin",
         "rawType": "int64",
         "type": "integer"
        },
        {
         "name": "0",
         "rawType": "int64",
         "type": "integer"
        },
        {
         "name": "1",
         "rawType": "int64",
         "type": "integer"
        },
        {
         "name": "2",
         "rawType": "int64",
         "type": "integer"
        }
       ],
       "ref": "efa193d7-f8e2-4596-a0fc-cacb5d78b919",
       "rows": [
        [
         "0",
         "54",
         "30",
         "23"
        ],
        [
         "1",
         "51",
         "41",
         "24"
        ]
       ],
       "shape": {
        "columns": 3,
        "rows": 2
       }
      },
      "text/html": [
       "<div>\n",
       "<style scoped>\n",
       "    .dataframe tbody tr th:only-of-type {\n",
       "        vertical-align: middle;\n",
       "    }\n",
       "\n",
       "    .dataframe tbody tr th {\n",
       "        vertical-align: top;\n",
       "    }\n",
       "\n",
       "    .dataframe thead th {\n",
       "        text-align: right;\n",
       "    }\n",
       "</style>\n",
       "<table border=\"1\" class=\"dataframe\">\n",
       "  <thead>\n",
       "    <tr style=\"text-align: right;\">\n",
       "      <th>Diagnosa Awal</th>\n",
       "      <th>0</th>\n",
       "      <th>1</th>\n",
       "      <th>2</th>\n",
       "    </tr>\n",
       "    <tr>\n",
       "      <th>Jenis Kelamin</th>\n",
       "      <th></th>\n",
       "      <th></th>\n",
       "      <th></th>\n",
       "    </tr>\n",
       "  </thead>\n",
       "  <tbody>\n",
       "    <tr>\n",
       "      <th>0</th>\n",
       "      <td>54</td>\n",
       "      <td>30</td>\n",
       "      <td>23</td>\n",
       "    </tr>\n",
       "    <tr>\n",
       "      <th>1</th>\n",
       "      <td>51</td>\n",
       "      <td>41</td>\n",
       "      <td>24</td>\n",
       "    </tr>\n",
       "  </tbody>\n",
       "</table>\n",
       "</div>"
      ],
      "text/plain": [
       "Diagnosa Awal   0   1   2\n",
       "Jenis Kelamin            \n",
       "0              54  30  23\n",
       "1              51  41  24"
      ]
     },
     "execution_count": 27,
     "metadata": {},
     "output_type": "execute_result"
    }
   ],
   "source": [
    "pd.crosstab(df['Jenis Kelamin'], df['Diagnosa Awal'])   # hubungan 2 kategori"
   ]
  },
  {
   "cell_type": "code",
   "execution_count": 30,
   "id": "f522e68a",
   "metadata": {},
   "outputs": [
    {
     "data": {
      "application/vnd.microsoft.datawrangler.viewer.v0+json": {
       "columns": [
        {
         "name": "Jenis Kelamin",
         "rawType": "int64",
         "type": "integer"
        },
        {
         "name": "Diagnosa Awal",
         "rawType": "float64",
         "type": "float"
        }
       ],
       "ref": "843385c5-1c5e-4d50-bea3-b69db279f86d",
       "rows": [
        [
         "0",
         "0.7102803738317757"
        ],
        [
         "1",
         "0.7672413793103449"
        ]
       ],
       "shape": {
        "columns": 1,
        "rows": 2
       }
      },
      "text/plain": [
       "Jenis Kelamin\n",
       "0    0.710280\n",
       "1    0.767241\n",
       "Name: Diagnosa Awal, dtype: float64"
      ]
     },
     "execution_count": 30,
     "metadata": {},
     "output_type": "execute_result"
    }
   ],
   "source": [
    "df.groupby('Jenis Kelamin')['Diagnosa Awal'].mean()"
   ]
  },
  {
   "cell_type": "code",
   "execution_count": 31,
   "id": "4073622a",
   "metadata": {},
   "outputs": [
    {
     "ename": "KeyError",
     "evalue": "'Umur'",
     "output_type": "error",
     "traceback": [
      "\u001b[1;31m---------------------------------------------------------------------------\u001b[0m",
      "\u001b[1;31mKeyError\u001b[0m                                  Traceback (most recent call last)",
      "Cell \u001b[1;32mIn[31], line 1\u001b[0m\n\u001b[1;32m----> 1\u001b[0m \u001b[43mdf\u001b[49m\u001b[38;5;241;43m.\u001b[39;49m\u001b[43mpivot_table\u001b[49m\u001b[43m(\u001b[49m\u001b[43mvalues\u001b[49m\u001b[38;5;241;43m=\u001b[39;49m\u001b[38;5;124;43m'\u001b[39;49m\u001b[38;5;124;43mDiagnosa Awal\u001b[39;49m\u001b[38;5;124;43m'\u001b[39;49m\u001b[43m,\u001b[49m\u001b[43m \u001b[49m\u001b[43mindex\u001b[49m\u001b[38;5;241;43m=\u001b[39;49m\u001b[38;5;124;43m'\u001b[39;49m\u001b[38;5;124;43mJenis Kelamin\u001b[39;49m\u001b[38;5;124;43m'\u001b[39;49m\u001b[43m,\u001b[49m\u001b[43m \u001b[49m\u001b[43mcolumns\u001b[49m\u001b[38;5;241;43m=\u001b[39;49m\u001b[38;5;124;43m'\u001b[39;49m\u001b[38;5;124;43mUmur\u001b[39;49m\u001b[38;5;124;43m'\u001b[39;49m\u001b[43m,\u001b[49m\u001b[43m \u001b[49m\u001b[43maggfunc\u001b[49m\u001b[38;5;241;43m=\u001b[39;49m\u001b[38;5;124;43m'\u001b[39;49m\u001b[38;5;124;43mmean\u001b[39;49m\u001b[38;5;124;43m'\u001b[39;49m\u001b[43m)\u001b[49m\n",
      "File \u001b[1;32mc:\\Users\\emanu\\AppData\\Local\\Programs\\Python\\Python311\\Lib\\site-packages\\pandas\\core\\frame.py:9190\u001b[0m, in \u001b[0;36mDataFrame.pivot_table\u001b[1;34m(self, values, index, columns, aggfunc, fill_value, margins, dropna, margins_name, observed, sort)\u001b[0m\n\u001b[0;32m   9173\u001b[0m \u001b[38;5;129m@Substitution\u001b[39m(\u001b[38;5;124m\"\u001b[39m\u001b[38;5;124m\"\u001b[39m)\n\u001b[0;32m   9174\u001b[0m \u001b[38;5;129m@Appender\u001b[39m(_shared_docs[\u001b[38;5;124m\"\u001b[39m\u001b[38;5;124mpivot_table\u001b[39m\u001b[38;5;124m\"\u001b[39m])\n\u001b[0;32m   9175\u001b[0m \u001b[38;5;28;01mdef\u001b[39;00m \u001b[38;5;21mpivot_table\u001b[39m(\n\u001b[1;32m   (...)\u001b[0m\n\u001b[0;32m   9186\u001b[0m     sort: \u001b[38;5;28mbool\u001b[39m \u001b[38;5;241m=\u001b[39m \u001b[38;5;28;01mTrue\u001b[39;00m,\n\u001b[0;32m   9187\u001b[0m ) \u001b[38;5;241m-\u001b[39m\u001b[38;5;241m>\u001b[39m DataFrame:\n\u001b[0;32m   9188\u001b[0m     \u001b[38;5;28;01mfrom\u001b[39;00m \u001b[38;5;21;01mpandas\u001b[39;00m\u001b[38;5;21;01m.\u001b[39;00m\u001b[38;5;21;01mcore\u001b[39;00m\u001b[38;5;21;01m.\u001b[39;00m\u001b[38;5;21;01mreshape\u001b[39;00m\u001b[38;5;21;01m.\u001b[39;00m\u001b[38;5;21;01mpivot\u001b[39;00m \u001b[38;5;28;01mimport\u001b[39;00m pivot_table\n\u001b[1;32m-> 9190\u001b[0m     \u001b[38;5;28;01mreturn\u001b[39;00m \u001b[43mpivot_table\u001b[49m\u001b[43m(\u001b[49m\n\u001b[0;32m   9191\u001b[0m \u001b[43m        \u001b[49m\u001b[38;5;28;43mself\u001b[39;49m\u001b[43m,\u001b[49m\n\u001b[0;32m   9192\u001b[0m \u001b[43m        \u001b[49m\u001b[43mvalues\u001b[49m\u001b[38;5;241;43m=\u001b[39;49m\u001b[43mvalues\u001b[49m\u001b[43m,\u001b[49m\n\u001b[0;32m   9193\u001b[0m \u001b[43m        \u001b[49m\u001b[43mindex\u001b[49m\u001b[38;5;241;43m=\u001b[39;49m\u001b[43mindex\u001b[49m\u001b[43m,\u001b[49m\n\u001b[0;32m   9194\u001b[0m \u001b[43m        \u001b[49m\u001b[43mcolumns\u001b[49m\u001b[38;5;241;43m=\u001b[39;49m\u001b[43mcolumns\u001b[49m\u001b[43m,\u001b[49m\n\u001b[0;32m   9195\u001b[0m \u001b[43m        \u001b[49m\u001b[43maggfunc\u001b[49m\u001b[38;5;241;43m=\u001b[39;49m\u001b[43maggfunc\u001b[49m\u001b[43m,\u001b[49m\n\u001b[0;32m   9196\u001b[0m \u001b[43m        \u001b[49m\u001b[43mfill_value\u001b[49m\u001b[38;5;241;43m=\u001b[39;49m\u001b[43mfill_value\u001b[49m\u001b[43m,\u001b[49m\n\u001b[0;32m   9197\u001b[0m \u001b[43m        \u001b[49m\u001b[43mmargins\u001b[49m\u001b[38;5;241;43m=\u001b[39;49m\u001b[43mmargins\u001b[49m\u001b[43m,\u001b[49m\n\u001b[0;32m   9198\u001b[0m \u001b[43m        \u001b[49m\u001b[43mdropna\u001b[49m\u001b[38;5;241;43m=\u001b[39;49m\u001b[43mdropna\u001b[49m\u001b[43m,\u001b[49m\n\u001b[0;32m   9199\u001b[0m \u001b[43m        \u001b[49m\u001b[43mmargins_name\u001b[49m\u001b[38;5;241;43m=\u001b[39;49m\u001b[43mmargins_name\u001b[49m\u001b[43m,\u001b[49m\n\u001b[0;32m   9200\u001b[0m \u001b[43m        \u001b[49m\u001b[43mobserved\u001b[49m\u001b[38;5;241;43m=\u001b[39;49m\u001b[43mobserved\u001b[49m\u001b[43m,\u001b[49m\n\u001b[0;32m   9201\u001b[0m \u001b[43m        \u001b[49m\u001b[43msort\u001b[49m\u001b[38;5;241;43m=\u001b[39;49m\u001b[43msort\u001b[49m\u001b[43m,\u001b[49m\n\u001b[0;32m   9202\u001b[0m \u001b[43m    \u001b[49m\u001b[43m)\u001b[49m\n",
      "File \u001b[1;32mc:\\Users\\emanu\\AppData\\Local\\Programs\\Python\\Python311\\Lib\\site-packages\\pandas\\core\\reshape\\pivot.py:99\u001b[0m, in \u001b[0;36mpivot_table\u001b[1;34m(data, values, index, columns, aggfunc, fill_value, margins, dropna, margins_name, observed, sort)\u001b[0m\n\u001b[0;32m     96\u001b[0m     table \u001b[38;5;241m=\u001b[39m concat(pieces, keys\u001b[38;5;241m=\u001b[39mkeys, axis\u001b[38;5;241m=\u001b[39m\u001b[38;5;241m1\u001b[39m)\n\u001b[0;32m     97\u001b[0m     \u001b[38;5;28;01mreturn\u001b[39;00m table\u001b[38;5;241m.\u001b[39m__finalize__(data, method\u001b[38;5;241m=\u001b[39m\u001b[38;5;124m\"\u001b[39m\u001b[38;5;124mpivot_table\u001b[39m\u001b[38;5;124m\"\u001b[39m)\n\u001b[1;32m---> 99\u001b[0m table \u001b[38;5;241m=\u001b[39m \u001b[43m__internal_pivot_table\u001b[49m\u001b[43m(\u001b[49m\n\u001b[0;32m    100\u001b[0m \u001b[43m    \u001b[49m\u001b[43mdata\u001b[49m\u001b[43m,\u001b[49m\n\u001b[0;32m    101\u001b[0m \u001b[43m    \u001b[49m\u001b[43mvalues\u001b[49m\u001b[43m,\u001b[49m\n\u001b[0;32m    102\u001b[0m \u001b[43m    \u001b[49m\u001b[43mindex\u001b[49m\u001b[43m,\u001b[49m\n\u001b[0;32m    103\u001b[0m \u001b[43m    \u001b[49m\u001b[43mcolumns\u001b[49m\u001b[43m,\u001b[49m\n\u001b[0;32m    104\u001b[0m \u001b[43m    \u001b[49m\u001b[43maggfunc\u001b[49m\u001b[43m,\u001b[49m\n\u001b[0;32m    105\u001b[0m \u001b[43m    \u001b[49m\u001b[43mfill_value\u001b[49m\u001b[43m,\u001b[49m\n\u001b[0;32m    106\u001b[0m \u001b[43m    \u001b[49m\u001b[43mmargins\u001b[49m\u001b[43m,\u001b[49m\n\u001b[0;32m    107\u001b[0m \u001b[43m    \u001b[49m\u001b[43mdropna\u001b[49m\u001b[43m,\u001b[49m\n\u001b[0;32m    108\u001b[0m \u001b[43m    \u001b[49m\u001b[43mmargins_name\u001b[49m\u001b[43m,\u001b[49m\n\u001b[0;32m    109\u001b[0m \u001b[43m    \u001b[49m\u001b[43mobserved\u001b[49m\u001b[43m,\u001b[49m\n\u001b[0;32m    110\u001b[0m \u001b[43m    \u001b[49m\u001b[43msort\u001b[49m\u001b[43m,\u001b[49m\n\u001b[0;32m    111\u001b[0m \u001b[43m\u001b[49m\u001b[43m)\u001b[49m\n\u001b[0;32m    112\u001b[0m \u001b[38;5;28;01mreturn\u001b[39;00m table\u001b[38;5;241m.\u001b[39m__finalize__(data, method\u001b[38;5;241m=\u001b[39m\u001b[38;5;124m\"\u001b[39m\u001b[38;5;124mpivot_table\u001b[39m\u001b[38;5;124m\"\u001b[39m)\n",
      "File \u001b[1;32mc:\\Users\\emanu\\AppData\\Local\\Programs\\Python\\Python311\\Lib\\site-packages\\pandas\\core\\reshape\\pivot.py:168\u001b[0m, in \u001b[0;36m__internal_pivot_table\u001b[1;34m(data, values, index, columns, aggfunc, fill_value, margins, dropna, margins_name, observed, sort)\u001b[0m\n\u001b[0;32m    165\u001b[0m             \u001b[38;5;28;01mpass\u001b[39;00m\n\u001b[0;32m    166\u001b[0m     values \u001b[38;5;241m=\u001b[39m \u001b[38;5;28mlist\u001b[39m(values)\n\u001b[1;32m--> 168\u001b[0m grouped \u001b[38;5;241m=\u001b[39m \u001b[43mdata\u001b[49m\u001b[38;5;241;43m.\u001b[39;49m\u001b[43mgroupby\u001b[49m\u001b[43m(\u001b[49m\u001b[43mkeys\u001b[49m\u001b[43m,\u001b[49m\u001b[43m \u001b[49m\u001b[43mobserved\u001b[49m\u001b[38;5;241;43m=\u001b[39;49m\u001b[43mobserved\u001b[49m\u001b[43m,\u001b[49m\u001b[43m \u001b[49m\u001b[43msort\u001b[49m\u001b[38;5;241;43m=\u001b[39;49m\u001b[43msort\u001b[49m\u001b[43m,\u001b[49m\u001b[43m \u001b[49m\u001b[43mdropna\u001b[49m\u001b[38;5;241;43m=\u001b[39;49m\u001b[43mdropna\u001b[49m\u001b[43m)\u001b[49m\n\u001b[0;32m    169\u001b[0m agged \u001b[38;5;241m=\u001b[39m grouped\u001b[38;5;241m.\u001b[39magg(aggfunc)\n\u001b[0;32m    171\u001b[0m \u001b[38;5;28;01mif\u001b[39;00m dropna \u001b[38;5;129;01mand\u001b[39;00m \u001b[38;5;28misinstance\u001b[39m(agged, ABCDataFrame) \u001b[38;5;129;01mand\u001b[39;00m \u001b[38;5;28mlen\u001b[39m(agged\u001b[38;5;241m.\u001b[39mcolumns):\n",
      "File \u001b[1;32mc:\\Users\\emanu\\AppData\\Local\\Programs\\Python\\Python311\\Lib\\site-packages\\pandas\\core\\frame.py:8869\u001b[0m, in \u001b[0;36mDataFrame.groupby\u001b[1;34m(self, by, axis, level, as_index, sort, group_keys, observed, dropna)\u001b[0m\n\u001b[0;32m   8866\u001b[0m \u001b[38;5;28;01mif\u001b[39;00m level \u001b[38;5;129;01mis\u001b[39;00m \u001b[38;5;28;01mNone\u001b[39;00m \u001b[38;5;129;01mand\u001b[39;00m by \u001b[38;5;129;01mis\u001b[39;00m \u001b[38;5;28;01mNone\u001b[39;00m:\n\u001b[0;32m   8867\u001b[0m     \u001b[38;5;28;01mraise\u001b[39;00m \u001b[38;5;167;01mTypeError\u001b[39;00m(\u001b[38;5;124m\"\u001b[39m\u001b[38;5;124mYou have to supply one of \u001b[39m\u001b[38;5;124m'\u001b[39m\u001b[38;5;124mby\u001b[39m\u001b[38;5;124m'\u001b[39m\u001b[38;5;124m and \u001b[39m\u001b[38;5;124m'\u001b[39m\u001b[38;5;124mlevel\u001b[39m\u001b[38;5;124m'\u001b[39m\u001b[38;5;124m\"\u001b[39m)\n\u001b[1;32m-> 8869\u001b[0m \u001b[38;5;28;01mreturn\u001b[39;00m \u001b[43mDataFrameGroupBy\u001b[49m\u001b[43m(\u001b[49m\n\u001b[0;32m   8870\u001b[0m \u001b[43m    \u001b[49m\u001b[43mobj\u001b[49m\u001b[38;5;241;43m=\u001b[39;49m\u001b[38;5;28;43mself\u001b[39;49m\u001b[43m,\u001b[49m\n\u001b[0;32m   8871\u001b[0m \u001b[43m    \u001b[49m\u001b[43mkeys\u001b[49m\u001b[38;5;241;43m=\u001b[39;49m\u001b[43mby\u001b[49m\u001b[43m,\u001b[49m\n\u001b[0;32m   8872\u001b[0m \u001b[43m    \u001b[49m\u001b[43maxis\u001b[49m\u001b[38;5;241;43m=\u001b[39;49m\u001b[43maxis\u001b[49m\u001b[43m,\u001b[49m\n\u001b[0;32m   8873\u001b[0m \u001b[43m    \u001b[49m\u001b[43mlevel\u001b[49m\u001b[38;5;241;43m=\u001b[39;49m\u001b[43mlevel\u001b[49m\u001b[43m,\u001b[49m\n\u001b[0;32m   8874\u001b[0m \u001b[43m    \u001b[49m\u001b[43mas_index\u001b[49m\u001b[38;5;241;43m=\u001b[39;49m\u001b[43mas_index\u001b[49m\u001b[43m,\u001b[49m\n\u001b[0;32m   8875\u001b[0m \u001b[43m    \u001b[49m\u001b[43msort\u001b[49m\u001b[38;5;241;43m=\u001b[39;49m\u001b[43msort\u001b[49m\u001b[43m,\u001b[49m\n\u001b[0;32m   8876\u001b[0m \u001b[43m    \u001b[49m\u001b[43mgroup_keys\u001b[49m\u001b[38;5;241;43m=\u001b[39;49m\u001b[43mgroup_keys\u001b[49m\u001b[43m,\u001b[49m\n\u001b[0;32m   8877\u001b[0m \u001b[43m    \u001b[49m\u001b[43mobserved\u001b[49m\u001b[38;5;241;43m=\u001b[39;49m\u001b[43mobserved\u001b[49m\u001b[43m,\u001b[49m\n\u001b[0;32m   8878\u001b[0m \u001b[43m    \u001b[49m\u001b[43mdropna\u001b[49m\u001b[38;5;241;43m=\u001b[39;49m\u001b[43mdropna\u001b[49m\u001b[43m,\u001b[49m\n\u001b[0;32m   8879\u001b[0m \u001b[43m\u001b[49m\u001b[43m)\u001b[49m\n",
      "File \u001b[1;32mc:\\Users\\emanu\\AppData\\Local\\Programs\\Python\\Python311\\Lib\\site-packages\\pandas\\core\\groupby\\groupby.py:1278\u001b[0m, in \u001b[0;36mGroupBy.__init__\u001b[1;34m(self, obj, keys, axis, level, grouper, exclusions, selection, as_index, sort, group_keys, observed, dropna)\u001b[0m\n\u001b[0;32m   1275\u001b[0m \u001b[38;5;28mself\u001b[39m\u001b[38;5;241m.\u001b[39mdropna \u001b[38;5;241m=\u001b[39m dropna\n\u001b[0;32m   1277\u001b[0m \u001b[38;5;28;01mif\u001b[39;00m grouper \u001b[38;5;129;01mis\u001b[39;00m \u001b[38;5;28;01mNone\u001b[39;00m:\n\u001b[1;32m-> 1278\u001b[0m     grouper, exclusions, obj \u001b[38;5;241m=\u001b[39m \u001b[43mget_grouper\u001b[49m\u001b[43m(\u001b[49m\n\u001b[0;32m   1279\u001b[0m \u001b[43m        \u001b[49m\u001b[43mobj\u001b[49m\u001b[43m,\u001b[49m\n\u001b[0;32m   1280\u001b[0m \u001b[43m        \u001b[49m\u001b[43mkeys\u001b[49m\u001b[43m,\u001b[49m\n\u001b[0;32m   1281\u001b[0m \u001b[43m        \u001b[49m\u001b[43maxis\u001b[49m\u001b[38;5;241;43m=\u001b[39;49m\u001b[43maxis\u001b[49m\u001b[43m,\u001b[49m\n\u001b[0;32m   1282\u001b[0m \u001b[43m        \u001b[49m\u001b[43mlevel\u001b[49m\u001b[38;5;241;43m=\u001b[39;49m\u001b[43mlevel\u001b[49m\u001b[43m,\u001b[49m\n\u001b[0;32m   1283\u001b[0m \u001b[43m        \u001b[49m\u001b[43msort\u001b[49m\u001b[38;5;241;43m=\u001b[39;49m\u001b[43msort\u001b[49m\u001b[43m,\u001b[49m\n\u001b[0;32m   1284\u001b[0m \u001b[43m        \u001b[49m\u001b[43mobserved\u001b[49m\u001b[38;5;241;43m=\u001b[39;49m\u001b[38;5;28;43;01mFalse\u001b[39;49;00m\u001b[43m \u001b[49m\u001b[38;5;28;43;01mif\u001b[39;49;00m\u001b[43m \u001b[49m\u001b[43mobserved\u001b[49m\u001b[43m \u001b[49m\u001b[38;5;129;43;01mis\u001b[39;49;00m\u001b[43m \u001b[49m\u001b[43mlib\u001b[49m\u001b[38;5;241;43m.\u001b[39;49m\u001b[43mno_default\u001b[49m\u001b[43m \u001b[49m\u001b[38;5;28;43;01melse\u001b[39;49;00m\u001b[43m \u001b[49m\u001b[43mobserved\u001b[49m\u001b[43m,\u001b[49m\n\u001b[0;32m   1285\u001b[0m \u001b[43m        \u001b[49m\u001b[43mdropna\u001b[49m\u001b[38;5;241;43m=\u001b[39;49m\u001b[38;5;28;43mself\u001b[39;49m\u001b[38;5;241;43m.\u001b[39;49m\u001b[43mdropna\u001b[49m\u001b[43m,\u001b[49m\n\u001b[0;32m   1286\u001b[0m \u001b[43m    \u001b[49m\u001b[43m)\u001b[49m\n\u001b[0;32m   1288\u001b[0m \u001b[38;5;28;01mif\u001b[39;00m observed \u001b[38;5;129;01mis\u001b[39;00m lib\u001b[38;5;241m.\u001b[39mno_default:\n\u001b[0;32m   1289\u001b[0m     \u001b[38;5;28;01mif\u001b[39;00m \u001b[38;5;28many\u001b[39m(ping\u001b[38;5;241m.\u001b[39m_passed_categorical \u001b[38;5;28;01mfor\u001b[39;00m ping \u001b[38;5;129;01min\u001b[39;00m grouper\u001b[38;5;241m.\u001b[39mgroupings):\n",
      "File \u001b[1;32mc:\\Users\\emanu\\AppData\\Local\\Programs\\Python\\Python311\\Lib\\site-packages\\pandas\\core\\groupby\\grouper.py:1009\u001b[0m, in \u001b[0;36mget_grouper\u001b[1;34m(obj, key, axis, level, sort, observed, validate, dropna)\u001b[0m\n\u001b[0;32m   1007\u001b[0m         in_axis, level, gpr \u001b[38;5;241m=\u001b[39m \u001b[38;5;28;01mFalse\u001b[39;00m, gpr, \u001b[38;5;28;01mNone\u001b[39;00m\n\u001b[0;32m   1008\u001b[0m     \u001b[38;5;28;01melse\u001b[39;00m:\n\u001b[1;32m-> 1009\u001b[0m         \u001b[38;5;28;01mraise\u001b[39;00m \u001b[38;5;167;01mKeyError\u001b[39;00m(gpr)\n\u001b[0;32m   1010\u001b[0m \u001b[38;5;28;01melif\u001b[39;00m \u001b[38;5;28misinstance\u001b[39m(gpr, Grouper) \u001b[38;5;129;01mand\u001b[39;00m gpr\u001b[38;5;241m.\u001b[39mkey \u001b[38;5;129;01mis\u001b[39;00m \u001b[38;5;129;01mnot\u001b[39;00m \u001b[38;5;28;01mNone\u001b[39;00m:\n\u001b[0;32m   1011\u001b[0m     \u001b[38;5;66;03m# Add key to exclusions\u001b[39;00m\n\u001b[0;32m   1012\u001b[0m     exclusions\u001b[38;5;241m.\u001b[39madd(gpr\u001b[38;5;241m.\u001b[39mkey)\n",
      "\u001b[1;31mKeyError\u001b[0m: 'Umur'"
     ]
    }
   ],
   "source": [
    "df.pivot_table(values='Diagnosa Awal', index='Jenis Kelamin', columns='Umur', aggfunc='mean')"
   ]
  },
  {
   "cell_type": "code",
   "execution_count": null,
   "id": "9121d11f",
   "metadata": {},
   "outputs": [],
   "source": []
  }
 ],
 "metadata": {
  "kernelspec": {
   "display_name": "Python 3",
   "language": "python",
   "name": "python3"
  },
  "language_info": {
   "codemirror_mode": {
    "name": "ipython",
    "version": 3
   },
   "file_extension": ".py",
   "mimetype": "text/x-python",
   "name": "python",
   "nbconvert_exporter": "python",
   "pygments_lexer": "ipython3",
   "version": "3.11.9"
  }
 },
 "nbformat": 4,
 "nbformat_minor": 5
}
